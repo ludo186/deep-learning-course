{
 "cells": [
  {
   "cell_type": "markdown",
   "id": "6849defd-c8af-4fba-b2e1-9f317fec8068",
   "metadata": {},
   "source": [
    "# Loan Application"
   ]
  },
  {
   "cell_type": "code",
   "execution_count": null,
   "id": "d1ec5fb8-ecef-4a1e-8233-83d8089ae249",
   "metadata": {
    "tags": []
   },
   "outputs": [],
   "source": [
    "import pandas as pd\n",
    "import numpy as np\n",
    "import jax\n",
    "import plotly.express as px\n",
    "\n",
    "# Set JAX as the backend for Keras\n",
    "import os\n",
    "os.environ[\"KERAS_BACKEND\"] = \"jax\"\n",
    "import keras"
   ]
  },
  {
   "cell_type": "markdown",
   "id": "c814a1e6-b216-4fea-af7c-418eb73e44aa",
   "metadata": {},
   "source": [
    "### Load the dataset"
   ]
  },
  {
   "cell_type": "code",
   "execution_count": null,
   "id": "5dbc9410-ee3a-401b-aa87-9d8f96fb200a",
   "metadata": {
    "tags": []
   },
   "outputs": [],
   "source": [
    "# charger le dataset dans un DataFRrame, tips  => https://pandas.pydata.org/pandas-docs/stable/reference/api/pandas.read_csv.html\n"
   ]
  },
  {
   "cell_type": "code",
   "execution_count": null,
   "id": "4cb04f76-7197-4dda-afc9-1d367e0e14eb",
   "metadata": {
    "tags": []
   },
   "outputs": [],
   "source": [
    "# la colonne cible est \"Loan_Status\", le reste sont des features donc:\n",
    "X = df.drop(columns=\"Loan_Status\").set_index(\"Loan_ID\").drop(columns=[\"\n",
    "y = df[\"Loan_Status\"]"
   ]
  },
  {
   "cell_type": "markdown",
   "id": "0e41faaa-3ce0-437f-8010-7e1e262cc984",
   "metadata": {},
   "source": [
    "### Let's have a look at it"
   ]
  },
  {
   "cell_type": "code",
   "execution_count": null,
   "id": "3a0f8a3a-84f2-4114-a076-0f98d89ae6f4",
   "metadata": {},
   "outputs": [],
   "source": [
    "# print X and y\n",
    "TODO : "
   ]
  },
  {
   "cell_type": "markdown",
   "id": "04957a96-be88-4d0d-8578-234094fb71b4",
   "metadata": {},
   "source": [
    "<div style=\"background-color: #008000; padding: 10px; border: 1px solid #000000;\">\n",
    "Question(1) : Pensez-vous que les données sont au bon format pour entrainer un reseau de neurone dans le dataframe X, pourquoi ? \n",
    "</div>"
   ]
  },
  {
   "cell_type": "markdown",
   "id": "a02ac168-3e48-472e-be87-42345bd4a6b0",
   "metadata": {},
   "source": [
    "REPONSE:"
   ]
  },
  {
   "cell_type": "code",
   "execution_count": null,
   "id": "b1819717-c07f-4ee9-a15a-34e2e50f8479",
   "metadata": {
    "tags": []
   },
   "outputs": [],
   "source": [
    "# transformer les données X : tips => https://pandas.pydata.org/pandas-docs/stable/reference/api/pandas.get_dummies.html"
   ]
  },
  {
   "cell_type": "code",
   "execution_count": null,
   "id": "b3782188-02bd-4c0f-944e-6d426c4310a0",
   "metadata": {
    "tags": []
   },
   "outputs": [],
   "source": [
    "X = TODO"
   ]
  },
  {
   "cell_type": "markdown",
   "id": "65a3a883-c507-4198-a5af-e29825201949",
   "metadata": {},
   "source": [
    "### Create a Neural Network with Keras of size 16 x 8 x 1"
   ]
  },
  {
   "cell_type": "code",
   "execution_count": null,
   "id": "76f847b9-3853-46cc-b461-29cdc9030016",
   "metadata": {
    "tags": []
   },
   "outputs": [],
   "source": [
    "# Define the input layer\n",
    "#inputs = keras.layers.Input\n",
    "\n",
    "# Define the hidden layers\n",
    "#x = keras.layers.Dense\n",
    "\n",
    "# Define the output layer\n",
    "# outputs = keras.layers.Dense\n",
    "\n",
    "# Create the model\n",
    "# model = keras.Model(inputs=inputs, outputs=outputs)\n",
    "\n",
    "# Compile the model\n",
    "# model.compile\n",
    "\n",
    "# Summary of the model\n",
    "model.summary()\n",
    "\n",
    "\n",
    "# Train the model\n",
    "history = model.fit(X.astype(float), y.to_numpy(), epochs=10, batch_size=16)\n",
    "\n",
    "px.line(history.history[\"loss\"], width=900, markers=True).show()\n",
    "\n",
    "print(f\"MSE : {np.mean((model.predict(X_n).ravel() - y)**2)}\")"
   ]
  },
  {
   "cell_type": "markdown",
   "id": "fbdd614a-353f-4753-8aa8-ed584ea2d1b5",
   "metadata": {
    "tags": []
   },
   "source": [
    "<div style=\"background-color: #008000; padding: 10px; border: 1px solid #000000;\">\n",
    "Question(2) : Que constatez vous ? la courbe de la fonction de loss vous semble elle normal ? pourquoi ?  \n",
    "</div>"
   ]
  },
  {
   "cell_type": "markdown",
   "id": "a1fdbb80-05ba-4c75-8142-30595cc18da9",
   "metadata": {},
   "source": [
    "REPONSE:"
   ]
  },
  {
   "cell_type": "markdown",
   "id": "a04b363c-5d3d-40ca-b102-8d3673538b8d",
   "metadata": {},
   "source": [
    "### Normaliser les donnée en Deep Learning"
   ]
  },
  {
   "cell_type": "markdown",
   "id": "ec7db4f7-32ff-4c8a-a58c-0d7defdd1701",
   "metadata": {},
   "source": [
    "La normalisation des données est cruciale en deep learning pour plusieurs raisons :\n",
    "\n",
    "- Stabilité numérique : La normalisation aide à éviter les problèmes de stabilité numérique, notamment les gradients explosifs ou vanissants, en maintenant les valeurs des données dans une plage plus gérable.\n",
    "\n",
    "- Équité des caractéristiques : En normalisant les données, chaque caractéristique contribue de manière égale à la prédiction finale, évitant ainsi que certaines caractéristiques dominent les autres en raison de leur échelle."
   ]
  },
  {
   "cell_type": "code",
   "execution_count": null,
   "id": "d0e07c92-3fa5-4372-87b7-c2dc61f6ba8b",
   "metadata": {
    "tags": []
   },
   "outputs": [],
   "source": [
    "# créeons un Z-Score\n",
    "# Normalize the data\n",
    "X = X.astype(float)\n",
    "X_n = (X - X.min()) / (X.max() - X.min())"
   ]
  },
  {
   "cell_type": "code",
   "execution_count": null,
   "id": "91b51d53-6898-41f5-9a92-0637e2dba069",
   "metadata": {
    "tags": []
   },
   "outputs": [],
   "source": [
    "# afficher X_n\n"
   ]
  },
  {
   "cell_type": "code",
   "execution_count": null,
   "id": "f261ebb2-0054-46dd-ad38-80394e6143d4",
   "metadata": {
    "tags": []
   },
   "outputs": [],
   "source": [
    "# et refaites votre reseau avec X_n au lieu de X"
   ]
  },
  {
   "cell_type": "code",
   "execution_count": null,
   "id": "9a37ce41-fbef-49fa-930c-880c23a5c9e9",
   "metadata": {},
   "outputs": [],
   "source": [
    "TODO"
   ]
  },
  {
   "cell_type": "markdown",
   "id": "e284e5d3-79d8-4136-be69-e458ec22c4e9",
   "metadata": {
    "tags": []
   },
   "source": [
    "<div style=\"background-color: #008000; padding: 10px; border: 1px solid #000000;\">\n",
    "Question(3) : Que constatez vous ? \n",
    "</div>"
   ]
  },
  {
   "cell_type": "markdown",
   "id": "fac712af-67fe-4d9b-99c1-0d0ddd560615",
   "metadata": {},
   "source": [
    "REPONSE:"
   ]
  },
  {
   "cell_type": "code",
   "execution_count": null,
   "id": "a37198e8-cf18-4975-bcfa-9251eab97529",
   "metadata": {},
   "outputs": [],
   "source": []
  }
 ],
 "metadata": {
  "kernelspec": {
   "display_name": "Python 3 (ipykernel)",
   "language": "python",
   "name": "python3"
  },
  "language_info": {
   "codemirror_mode": {
    "name": "ipython",
    "version": 3
   },
   "file_extension": ".py",
   "mimetype": "text/x-python",
   "name": "python",
   "nbconvert_exporter": "python",
   "pygments_lexer": "ipython3",
   "version": "3.10.14"
  }
 },
 "nbformat": 4,
 "nbformat_minor": 5
}
